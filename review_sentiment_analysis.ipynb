{
  "nbformat": 4,
  "nbformat_minor": 0,
  "metadata": {
    "colab": {
      "name": "review-sentiment-analysis.ipynb",
      "provenance": [],
      "collapsed_sections": [],
      "toc_visible": true,
      "mount_file_id": "1W6JosGlg_3fE8-qlxFCeViD4ab4sj3T9",
      "authorship_tag": "ABX9TyP3yr5dpUWiVj0kmBAVoa5/",
      "include_colab_link": true
    },
    "kernelspec": {
      "display_name": "Python 3",
      "name": "python3"
    }
  },
  "cells": [
    {
      "cell_type": "markdown",
      "metadata": {
        "id": "view-in-github",
        "colab_type": "text"
      },
      "source": [
        "<a href=\"https://colab.research.google.com/github/srihk/mini-project/blob/main/review_sentiment_analysis.ipynb\" target=\"_parent\"><img src=\"https://colab.research.google.com/assets/colab-badge.svg\" alt=\"Open In Colab\"/></a>"
      ]
    },
    {
      "cell_type": "markdown",
      "metadata": {
        "id": "uKzBpi6Vdn8O"
      },
      "source": [
        "# Basic Environment Setup"
      ]
    },
    {
      "cell_type": "code",
      "metadata": {
        "id": "2ipiq65Roddi"
      },
      "source": [
        "import tensorflow as tf\n",
        "import numpy as np\n",
        "import pandas as pd\n",
        "\n",
        "# Make numpy values easier to read.\n",
        "np.set_printoptions(precision=3, suppress=True)\n",
        "\n",
        "# Importing defaultdict \n",
        "from collections import defaultdict"
      ],
      "execution_count": 1,
      "outputs": []
    },
    {
      "cell_type": "markdown",
      "metadata": {
        "id": "XJlmHwcvQb7M"
      },
      "source": [
        "\n",
        "\n",
        "- `plot_graphs` is a helper function to plot graphs using `matplotlb`.\n",
        "\n"
      ]
    },
    {
      "cell_type": "code",
      "metadata": {
        "id": "8LRtsysQPyFP"
      },
      "source": [
        "import matplotlib.pyplot as plt\n",
        "\n",
        "def plot_graphs(history, metric):\n",
        "  plt.plot(history.history[metric])\n",
        "  plt.plot(history.history['val_'+metric], '')\n",
        "  plt.xlabel(\"Epochs\")\n",
        "  plt.ylabel(metric)\n",
        "  plt.legend([metric, 'val_'+metric])"
      ],
      "execution_count": 3,
      "outputs": []
    },
    {
      "cell_type": "markdown",
      "metadata": {
        "id": "ayiiwGDrd6Mp"
      },
      "source": [
        "# Setup input pipeline\n",
        "\n",
        "- Read the mobile phones reviews dataset csv files into pandas dataframes."
      ]
    },
    {
      "cell_type": "code",
      "metadata": {
        "colab": {
          "base_uri": "https://localhost:8080/"
        },
        "id": "5cjo4l0Heas5",
        "outputId": "91b30632-56c8-41b8-854d-6802e224a07a"
      },
      "source": [
        "# train_dataset, info = tfds.load('amazon_us_reviews/Mobile_Electronics_v1_00', with_info=True)\n",
        "items_dataframe = pd.read_csv('/mobile-phones-reviews-dataset/20191226-items.csv')\n",
        "reviews_dataframe = pd.read_csv('/mobile-phones-reviews-dataset/20191226-reviews.csv')\n",
        "print(\"Completed the task: Read the mobile phones reviews dataset csv files into pandas dataframes.\")"
      ],
      "execution_count": 4,
      "outputs": [
        {
          "output_type": "stream",
          "text": [
            "Completed the task: Read the mobile phones reviews dataset csv files into pandas dataframes.\n"
          ],
          "name": "stdout"
        }
      ]
    },
    {
      "cell_type": "markdown",
      "metadata": {
        "id": "pUm4f5yNycOr"
      },
      "source": [
        "- Examine the data in `items_dataframe`.\r\n"
      ]
    },
    {
      "cell_type": "code",
      "metadata": {
        "colab": {
          "base_uri": "https://localhost:8080/",
          "height": 306
        },
        "id": "978FgrmOy15p",
        "outputId": "2c1ffeb4-c9e4-454a-d5c8-e590902f75ff"
      },
      "source": [
        "items_dataframe.head()"
      ],
      "execution_count": 5,
      "outputs": [
        {
          "output_type": "execute_result",
          "data": {
            "text/html": [
              "<div>\n",
              "<style scoped>\n",
              "    .dataframe tbody tr th:only-of-type {\n",
              "        vertical-align: middle;\n",
              "    }\n",
              "\n",
              "    .dataframe tbody tr th {\n",
              "        vertical-align: top;\n",
              "    }\n",
              "\n",
              "    .dataframe thead th {\n",
              "        text-align: right;\n",
              "    }\n",
              "</style>\n",
              "<table border=\"1\" class=\"dataframe\">\n",
              "  <thead>\n",
              "    <tr style=\"text-align: right;\">\n",
              "      <th></th>\n",
              "      <th>asin</th>\n",
              "      <th>brand</th>\n",
              "      <th>title</th>\n",
              "      <th>url</th>\n",
              "      <th>image</th>\n",
              "      <th>rating</th>\n",
              "      <th>reviewUrl</th>\n",
              "      <th>totalReviews</th>\n",
              "      <th>price</th>\n",
              "      <th>originalPrice</th>\n",
              "    </tr>\n",
              "  </thead>\n",
              "  <tbody>\n",
              "    <tr>\n",
              "      <th>0</th>\n",
              "      <td>B0000SX2UC</td>\n",
              "      <td>NaN</td>\n",
              "      <td>Dual-Band / Tri-Mode Sprint PCS Phone w/ Voice...</td>\n",
              "      <td>https://www.amazon.com/Dual-Band-Tri-Mode-Acti...</td>\n",
              "      <td>https://m.media-amazon.com/images/I/2143EBQ210...</td>\n",
              "      <td>3.0</td>\n",
              "      <td>https://www.amazon.com/product-reviews/B0000SX2UC</td>\n",
              "      <td>14</td>\n",
              "      <td>0.00</td>\n",
              "      <td>0.0</td>\n",
              "    </tr>\n",
              "    <tr>\n",
              "      <th>1</th>\n",
              "      <td>B0009N5L7K</td>\n",
              "      <td>Motorola</td>\n",
              "      <td>Motorola I265 phone</td>\n",
              "      <td>https://www.amazon.com/Motorola-i265-I265-phon...</td>\n",
              "      <td>https://m.media-amazon.com/images/I/419WBAVDAR...</td>\n",
              "      <td>3.0</td>\n",
              "      <td>https://www.amazon.com/product-reviews/B0009N5L7K</td>\n",
              "      <td>7</td>\n",
              "      <td>49.95</td>\n",
              "      <td>0.0</td>\n",
              "    </tr>\n",
              "    <tr>\n",
              "      <th>2</th>\n",
              "      <td>B000SKTZ0S</td>\n",
              "      <td>Motorola</td>\n",
              "      <td>MOTOROLA C168i AT&amp;T CINGULAR PREPAID GOPHONE C...</td>\n",
              "      <td>https://www.amazon.com/MOTOROLA-C168i-CINGULAR...</td>\n",
              "      <td>https://m.media-amazon.com/images/I/71b+q3ydkI...</td>\n",
              "      <td>2.7</td>\n",
              "      <td>https://www.amazon.com/product-reviews/B000SKTZ0S</td>\n",
              "      <td>22</td>\n",
              "      <td>99.99</td>\n",
              "      <td>0.0</td>\n",
              "    </tr>\n",
              "    <tr>\n",
              "      <th>3</th>\n",
              "      <td>B001AO4OUC</td>\n",
              "      <td>Motorola</td>\n",
              "      <td>Motorola i335 Cell Phone Boost Mobile</td>\n",
              "      <td>https://www.amazon.com/Motorola-i335-Phone-Boo...</td>\n",
              "      <td>https://m.media-amazon.com/images/I/710UO8gdT+...</td>\n",
              "      <td>3.3</td>\n",
              "      <td>https://www.amazon.com/product-reviews/B001AO4OUC</td>\n",
              "      <td>21</td>\n",
              "      <td>0.00</td>\n",
              "      <td>0.0</td>\n",
              "    </tr>\n",
              "    <tr>\n",
              "      <th>4</th>\n",
              "      <td>B001DCJAJG</td>\n",
              "      <td>Motorola</td>\n",
              "      <td>Motorola V365 no contract cellular phone AT&amp;T</td>\n",
              "      <td>https://www.amazon.com/Motorola-V365-contract-...</td>\n",
              "      <td>https://m.media-amazon.com/images/I/61LYNCVrrK...</td>\n",
              "      <td>3.1</td>\n",
              "      <td>https://www.amazon.com/product-reviews/B001DCJAJG</td>\n",
              "      <td>12</td>\n",
              "      <td>149.99</td>\n",
              "      <td>0.0</td>\n",
              "    </tr>\n",
              "  </tbody>\n",
              "</table>\n",
              "</div>"
            ],
            "text/plain": [
              "         asin     brand  ...   price originalPrice\n",
              "0  B0000SX2UC       NaN  ...    0.00           0.0\n",
              "1  B0009N5L7K  Motorola  ...   49.95           0.0\n",
              "2  B000SKTZ0S  Motorola  ...   99.99           0.0\n",
              "3  B001AO4OUC  Motorola  ...    0.00           0.0\n",
              "4  B001DCJAJG  Motorola  ...  149.99           0.0\n",
              "\n",
              "[5 rows x 10 columns]"
            ]
          },
          "metadata": {
            "tags": []
          },
          "execution_count": 5
        }
      ]
    },
    {
      "cell_type": "code",
      "metadata": {
        "colab": {
          "base_uri": "https://localhost:8080/"
        },
        "id": "QTSDZtISy17R",
        "outputId": "80a1c812-08a4-44b1-d99a-9a7d5bb2b062"
      },
      "source": [
        "items_dataframe.dtypes"
      ],
      "execution_count": 6,
      "outputs": [
        {
          "output_type": "execute_result",
          "data": {
            "text/plain": [
              "asin              object\n",
              "brand             object\n",
              "title             object\n",
              "url               object\n",
              "image             object\n",
              "rating           float64\n",
              "reviewUrl         object\n",
              "totalReviews       int64\n",
              "price            float64\n",
              "originalPrice    float64\n",
              "dtype: object"
            ]
          },
          "metadata": {
            "tags": []
          },
          "execution_count": 6
        }
      ]
    },
    {
      "cell_type": "markdown",
      "metadata": {
        "id": "3Uf_qIXcy8Tw"
      },
      "source": [
        "- Examine the data in `reviews_dataframe`."
      ]
    },
    {
      "cell_type": "code",
      "metadata": {
        "colab": {
          "base_uri": "https://localhost:8080/",
          "height": 204
        },
        "id": "qDknLwwazGP4",
        "outputId": "c85b7ce7-6d2a-4488-c8e6-07624a3aae6e"
      },
      "source": [
        "reviews_dataframe.head()"
      ],
      "execution_count": 7,
      "outputs": [
        {
          "output_type": "execute_result",
          "data": {
            "text/html": [
              "<div>\n",
              "<style scoped>\n",
              "    .dataframe tbody tr th:only-of-type {\n",
              "        vertical-align: middle;\n",
              "    }\n",
              "\n",
              "    .dataframe tbody tr th {\n",
              "        vertical-align: top;\n",
              "    }\n",
              "\n",
              "    .dataframe thead th {\n",
              "        text-align: right;\n",
              "    }\n",
              "</style>\n",
              "<table border=\"1\" class=\"dataframe\">\n",
              "  <thead>\n",
              "    <tr style=\"text-align: right;\">\n",
              "      <th></th>\n",
              "      <th>asin</th>\n",
              "      <th>name</th>\n",
              "      <th>rating</th>\n",
              "      <th>date</th>\n",
              "      <th>verified</th>\n",
              "      <th>title</th>\n",
              "      <th>body</th>\n",
              "      <th>helpfulVotes</th>\n",
              "    </tr>\n",
              "  </thead>\n",
              "  <tbody>\n",
              "    <tr>\n",
              "      <th>0</th>\n",
              "      <td>B0000SX2UC</td>\n",
              "      <td>Janet</td>\n",
              "      <td>3</td>\n",
              "      <td>October 11, 2005</td>\n",
              "      <td>False</td>\n",
              "      <td>Def not best, but not worst</td>\n",
              "      <td>I had the Samsung A600 for awhile which is abs...</td>\n",
              "      <td>1.0</td>\n",
              "    </tr>\n",
              "    <tr>\n",
              "      <th>1</th>\n",
              "      <td>B0000SX2UC</td>\n",
              "      <td>Luke Wyatt</td>\n",
              "      <td>1</td>\n",
              "      <td>January 7, 2004</td>\n",
              "      <td>False</td>\n",
              "      <td>Text Messaging Doesn't Work</td>\n",
              "      <td>Due to a software issue between Nokia and Spri...</td>\n",
              "      <td>17.0</td>\n",
              "    </tr>\n",
              "    <tr>\n",
              "      <th>2</th>\n",
              "      <td>B0000SX2UC</td>\n",
              "      <td>Brooke</td>\n",
              "      <td>5</td>\n",
              "      <td>December 30, 2003</td>\n",
              "      <td>False</td>\n",
              "      <td>Love This Phone</td>\n",
              "      <td>This is a great, reliable phone. I also purcha...</td>\n",
              "      <td>5.0</td>\n",
              "    </tr>\n",
              "    <tr>\n",
              "      <th>3</th>\n",
              "      <td>B0000SX2UC</td>\n",
              "      <td>amy m. teague</td>\n",
              "      <td>3</td>\n",
              "      <td>March 18, 2004</td>\n",
              "      <td>False</td>\n",
              "      <td>Love the Phone, BUT...!</td>\n",
              "      <td>I love the phone and all, because I really did...</td>\n",
              "      <td>1.0</td>\n",
              "    </tr>\n",
              "    <tr>\n",
              "      <th>4</th>\n",
              "      <td>B0000SX2UC</td>\n",
              "      <td>tristazbimmer</td>\n",
              "      <td>4</td>\n",
              "      <td>August 28, 2005</td>\n",
              "      <td>False</td>\n",
              "      <td>Great phone service and options, lousy case!</td>\n",
              "      <td>The phone has been great for every purpose it ...</td>\n",
              "      <td>1.0</td>\n",
              "    </tr>\n",
              "  </tbody>\n",
              "</table>\n",
              "</div>"
            ],
            "text/plain": [
              "         asin  ... helpfulVotes\n",
              "0  B0000SX2UC  ...          1.0\n",
              "1  B0000SX2UC  ...         17.0\n",
              "2  B0000SX2UC  ...          5.0\n",
              "3  B0000SX2UC  ...          1.0\n",
              "4  B0000SX2UC  ...          1.0\n",
              "\n",
              "[5 rows x 8 columns]"
            ]
          },
          "metadata": {
            "tags": []
          },
          "execution_count": 7
        }
      ]
    },
    {
      "cell_type": "code",
      "metadata": {
        "colab": {
          "base_uri": "https://localhost:8080/"
        },
        "id": "TAYLE19izGaf",
        "outputId": "f1a27916-a8cf-41cd-f1b2-b34b2f67a048"
      },
      "source": [
        "reviews_dataframe.dtypes"
      ],
      "execution_count": 8,
      "outputs": [
        {
          "output_type": "execute_result",
          "data": {
            "text/plain": [
              "asin             object\n",
              "name             object\n",
              "rating            int64\n",
              "date             object\n",
              "verified           bool\n",
              "title            object\n",
              "body             object\n",
              "helpfulVotes    float64\n",
              "dtype: object"
            ]
          },
          "metadata": {
            "tags": []
          },
          "execution_count": 8
        }
      ]
    },
    {
      "cell_type": "markdown",
      "metadata": {
        "id": "R5hYBSmF8Xwe"
      },
      "source": [
        "- Create a new column `review` from `body` in `reviews_dataframe`."
      ]
    },
    {
      "cell_type": "code",
      "metadata": {
        "id": "rTuSps0Q8Gr-"
      },
      "source": [
        "reviews_dataframe['review'] = reviews_dataframe['body']"
      ],
      "execution_count": 9,
      "outputs": []
    },
    {
      "cell_type": "markdown",
      "metadata": {
        "id": "lCVZ4pNi9WiH"
      },
      "source": [
        "- Create labels for all the reviews."
      ]
    },
    {
      "cell_type": "code",
      "metadata": {
        "id": "iReMI3fy9cYl"
      },
      "source": [
        "reviews_dataframe['label'] = reviews_dataframe['rating'] // 3"
      ],
      "execution_count": 10,
      "outputs": []
    },
    {
      "cell_type": "markdown",
      "metadata": {
        "id": "aLC54EK31Afn"
      },
      "source": [
        "- Separate labels and reviews."
      ]
    },
    {
      "cell_type": "code",
      "metadata": {
        "id": "-on8-lny0KE6"
      },
      "source": [
        "reviews = list(map(str, reviews_dataframe['review']))\r\n",
        "labels = reviews_dataframe['label']"
      ],
      "execution_count": 11,
      "outputs": []
    },
    {
      "cell_type": "markdown",
      "metadata": {
        "id": "t7q6eAWE1yL2"
      },
      "source": [
        "- Examine the contents of the dataframe `labels`."
      ]
    },
    {
      "cell_type": "code",
      "metadata": {
        "colab": {
          "base_uri": "https://localhost:8080/"
        },
        "id": "4qjJZPkN162V",
        "outputId": "985e333b-fbbb-49cc-892d-1ac804245906"
      },
      "source": [
        "labels.head()"
      ],
      "execution_count": 12,
      "outputs": [
        {
          "output_type": "execute_result",
          "data": {
            "text/plain": [
              "0    1\n",
              "1    0\n",
              "2    1\n",
              "3    1\n",
              "4    1\n",
              "Name: label, dtype: int64"
            ]
          },
          "metadata": {
            "tags": []
          },
          "execution_count": 12
        }
      ]
    },
    {
      "cell_type": "markdown",
      "metadata": {
        "id": "RYquXow_7Ewb"
      },
      "source": [
        "- Divide the dataset for training and testing in the ratio 80:20.\r\n",
        "- Load the data using `tf.data.Dataset`."
      ]
    },
    {
      "cell_type": "code",
      "metadata": {
        "colab": {
          "base_uri": "https://localhost:8080/"
        },
        "id": "770Ha2Hs7Oh5",
        "outputId": "95bfbe7e-dea1-410a-a133-280c1a47fa10"
      },
      "source": [
        "dataset_size = len(reviews)\r\n",
        "train_dataset = tf.data.Dataset.from_tensor_slices((reviews[:(dataset_size * 80) // 100], labels.values[:(dataset_size * 80) // 100]))\r\n",
        "test_dataset = tf.data.Dataset.from_tensor_slices((reviews[(dataset_size * 80) // 100:], labels.values[(dataset_size * 80) // 100:]))\r\n",
        "print(\"Completed the task: Divide the dataset for training and testing in the ratio 80:20. Size of the total dataset:\", dataset_size, \"(Train (80%):\", len(train_dataset), \"), (Test (20%)\", len(test_dataset), \")\")\r\n",
        "print(\"Completed the task: Load the data using tf.data.Dataset.\")"
      ],
      "execution_count": 13,
      "outputs": [
        {
          "output_type": "stream",
          "text": [
            "Completed the task: Divide the dataset for training and testing in the ratio 80:20. Size of the total dataset: 67986 (Train (80%): 54388 ), (Test (20%) 13598 )\n",
            "Completed the task: Load the data using tf.data.Dataset.\n"
          ],
          "name": "stdout"
        }
      ]
    },
    {
      "cell_type": "markdown",
      "metadata": {
        "id": "PXjQLf7SjM0g"
      },
      "source": [
        "- Examine the contents of `train_dataset`."
      ]
    },
    {
      "cell_type": "code",
      "metadata": {
        "colab": {
          "base_uri": "https://localhost:8080/"
        },
        "id": "Gvh2fwdfi7NA",
        "outputId": "206e70d9-cfe6-4662-b4e5-b945c6aa15b5"
      },
      "source": [
        "print(\"Length of train_dataset:\", len(train_dataset))\r\n",
        "print(\"Element spec:\", test_dataset.element_spec)\r\n",
        "for review, label in train_dataset.take(5):\r\n",
        "  print ('Review: {}, Label: {}'.format(review, label))"
      ],
      "execution_count": 14,
      "outputs": [
        {
          "output_type": "stream",
          "text": [
            "Length of train_dataset: 54388\n",
            "Element spec: (TensorSpec(shape=(), dtype=tf.string, name=None), TensorSpec(shape=(), dtype=tf.int64, name=None))\n",
            "Review: b\"I had the Samsung A600 for awhile which is absolute doo doo. You can read my review on it and detect my rage at the stupid thing. It finally died on me so I used this Nokia phone I bought in a garage sale for $1. I wonder y she sold it so cheap?... Bad: ===> I hate the menu. It takes forever to get to what you want because you have to scroll endlessly. Usually phones have numbered categories so u can simply press the # and get where you want to go. ===> It's a pain to put it on silent or vibrate. If you're in class and it rings, you have to turn it off immediately. There's no fast way to silence the damn thing. Always remember to put it on silent! I learned that the hard way. ===> It's so true about the case. It's a mission to get off and will break ur nails in the process. Also, you'll damage the case each time u try. For some reason the phone started giving me problems once I did succeed in opening it. ===> Buttons could be a bit bigger. Vibration could be stronger. Good: ===> Reception is not too shabby. I was using it in the elevator which is a remarkable feat considering my old phone would lose service by simply putting it in my pocket. ===> Compared to my old Samsung, this phone works quite well. The ring tones are loud enough to hear and the phone actually charges quickly and has great battery life. It doesn't heat up like a potatoe in the oven either during long phone convos. ===> Nice bright, large screen. ===> Cute ways to customize it. Scroll bar can be set to purple, pink, aqua, orange, etc. Overall: Okay phone. It serves its purpose but definitely pales in comparison to these new phones coming out from Sprint. Why get so so when you can get great?\", Label: 1\n",
            "Review: b'Due to a software issue between Nokia and Sprint this phone\\'s text messaging capabilities don\\'t work with Sprint\\'s system and won\\'t until a software patch comes out \"some time in the next few months\". You will have to spend at least 1 hour with Sprint\\'s award winning customer service team to find someone who will admit this to you. The problem is that Nokia designed their phones so that incoming messages are retrieved quickly and then viewed \"offline\" the way most providers work. Sprint, however, likes to have people hook up to their server first and then stay connected, burning minutes while they check their inbox, compose a reply and wait for the Sprint server to respond so they can send it out. Innovation in money-making at its finest.', Label: 0\n",
            "Review: b\"This is a great, reliable phone. I also purchased this phone after my samsung A460 died. The menu is easily comprehendable and speed dialing is available for around 300 numbers. Voice dialing is also a nice feature, but it takes longer than speed dialing. The only thing that bothers me is the games...Nokia seems to have taken snake (1 and 2) off their phones. There is a skydiving game, bowling, and tennis (like pong). The ringers are very nice, and a feature is available to choose a different ringer for each person calling. However, ringtones are not available online to download to this phone. You're pretty much stuck with what you have. There are vibrating ringtones and regular (midi) polyphonic tones. All they need are covers in a reasonable price range...\", Label: 1\n",
            "Review: b\"I love the phone and all, because I really did need one, but I didn't expect the price of the bill when I received one. Also, I've had my phone for a little over two months now and still have yet to receive my free accessories that were supposed to come with the phone. Every time I call the company, they keep telling me to wait a couple of weeks, and that I should be receiving it shortly. Other than that, I do love the phone and all that I am able to do with it; and I'm not just talking about making the phone calls! :)\", Label: 1\n",
            "Review: b'The phone has been great for every purpose it offers, except the day i bought it-i couldnt get the case off. You can take the case off to put your own pictures in the jaket which is super cool, but when i took it back to the store-an employee said they were meant to be hard to get off. Well, he could barely even get it off- he came close to snapping the casing in half. I was never able to get it off after that which isnt THAT big of a deal, but it got dirty under the clear casing and it looks really dirty now. MAKE SURE YOU CAN GET YOUR CASE ON AND OFF! Oh and you have to charge it ALL off the time.', Label: 1\n"
          ],
          "name": "stdout"
        }
      ]
    },
    {
      "cell_type": "markdown",
      "metadata": {
        "id": "1C-HQCNkjewO"
      },
      "source": [
        "- Examine the contents of `test_dataset`."
      ]
    },
    {
      "cell_type": "code",
      "metadata": {
        "colab": {
          "base_uri": "https://localhost:8080/"
        },
        "id": "VtIgJVkRi7Ye",
        "outputId": "2d0b6622-92f2-4821-df1a-674e60ba7626"
      },
      "source": [
        "print(\"Length of test_dataset:\", len(test_dataset))\r\n",
        "print(\"Element spec:\", test_dataset.element_spec)\r\n",
        "for review, label in test_dataset.take(5):\r\n",
        "  print ('Review: {}, Label: {}'.format(review, label))"
      ],
      "execution_count": 15,
      "outputs": [
        {
          "output_type": "stream",
          "text": [
            "Length of test_dataset: 13598\n",
            "Element spec: (TensorSpec(shape=(), dtype=tf.string, name=None), TensorSpec(shape=(), dtype=tf.int64, name=None))\n",
            "Review: b\"I have been using this product for a good 3-4 months to give it a proper review. Well, ultimately I'm impressed with this phone and it's capabilities at such a low price, although for it's price it's not bulky or heavy in anyway and has a nice sleek design to give it that higher phone tier feeling. Runs android 8.0, smooth and fluid interface thanks to the 4GB RAM (games run great when using medium settings), a great 12MP camera along with a 5MP AI (dual camera) to increase some aspects of video/ photos, the fingerprint scanner is great and very responsive, and a 1080p resolution to get the most out of your video. The battery life is decent, but thankfully to the USB-C fast charging it will bring the battery back up to 100% in about an hour and a half. The only issue I had with the phone is that when attempting to use the face recognition, you have to change its region to Singapore? It took awhile but no biggie, I have no idea why, but overall the face recognition is great I've tested it with photos of me that could have potentially unlocked it and there doesn't to seem to be any problem. The Xiaomi Mi 8 lite is a great buy for those on a budget and it is quite the steal for the price. Thank you and have a good day. (My photos were all taken using the AI camera enabled)\", Label: 1\n",
            "Review: b\"I have been using Xiaomi devices since 2013, I have around 6-7 devices with my family. To being honest, I didn't find anything wrong with their devices, Xiaomi is very confident about our Data. They are strong, efficient and more affordable than Samsung, Motorola and Huawei. Pros: Good hardware built Good display Good battery ( enough for a day or so ) Good software ( except few adds, you can disable these too ) Good camera Global bands ( Yes GSM, No CDMA ) Cons: No NFC No IP rating ........................... Conclusion: You won't regret to buy this device. Not a bad for $200 budget phone!!\", Label: 1\n",
            "Review: b'No problems at all I love it 2 month update: the camera lense cracked like a week after I got it but it\\'s still very well functional, not even noticeable. But what is noticeable is the quality of the camera or should I say the lack of. If whatever you\\'re trying to take a picture of make sure it\\'s still. The performance is by far one of the best values in mobile. I\\'m a bit tech savvy so I can strain a device pretty fast with all the stuff I\\'m doing with it such as, gaming (every game I tried runs smooth), running different launchers, constantly checking my social media, etc. But without any hiccups. By the end of the day I\\'ll still well above the 40% mark. The charge times are phenomenal getting a full charge around 1.5 hours. Not bad if I should say so. I\\'m not surprised but it would\\'ve been a lot nicer to have nfc but it\\'s no deal breaker. The speaker at the bottom of the phone to the right of the charging port is what you\\'d expect from a phone at this price range. Now with one more issue, I\\'m worried that my sim might stop working, I\\'m running on metro for those who want to know. The reason of this being I\\'ve seen reviews where their phone stopped accepting their sims and my phone after a reboot shows a message (sometimes) like \"sim card not found\" but it\\'s usually no problem because it works still. Lastly the phone is pretty sturdy after the first drop which wasnt a very big drop, was the only one to cause significant damage. I\\'ve dropped this phone multiple times doing every day things and it just fly out of the pocket due to it having practically no texture. But it made all the drops so far with minor to barely noticeable scuff marks.', Label: 1\n",
            "Review: b'Good purchase Minus battery to fast drain Touched screen not responsible', Label: 1\n",
            "Review: b'Easy to set up and lightening fast, this Xiaomi replaces my current Huawei phone. With google support for the Huawei product is jeopardy, this was my second choice. Not disappointed and actually my wife likes it much better. Buyer beware: Ours came with a UK power adapter in the box. Verify BEFORE purchase or find another vendor to buy from.', Label: 1\n"
          ],
          "name": "stdout"
        }
      ]
    },
    {
      "cell_type": "markdown",
      "metadata": {
        "id": "tNyJ7OvZmPcn"
      },
      "source": [
        "- Set the batch size for further processing and feeding.\r\n",
        "- Shuffle the data."
      ]
    },
    {
      "cell_type": "code",
      "metadata": {
        "colab": {
          "base_uri": "https://localhost:8080/"
        },
        "id": "uuWfYNXWDSDX",
        "outputId": "086f8551-3390-49de-d8d7-52353a3a90fc"
      },
      "source": [
        "BUFFER_SIZE = 10000\r\n",
        "BATCH_SIZE = 64\r\n",
        "\r\n",
        "train_dataset = train_dataset.shuffle(BUFFER_SIZE).batch(BATCH_SIZE).prefetch(tf.data.AUTOTUNE)\r\n",
        "test_dataset = test_dataset.batch(BATCH_SIZE).prefetch(tf.data.AUTOTUNE)\r\n",
        "print(\"Completed the task: Set the batch size for further processing and feeding.\")\r\n",
        "print(\"Completed the task: Shuffle the data.\")"
      ],
      "execution_count": 16,
      "outputs": [
        {
          "output_type": "stream",
          "text": [
            "Completed the task: Set the batch size for further processing and feeding.\n",
            "Completed the task: Shuffle the data.\n"
          ],
          "name": "stdout"
        }
      ]
    },
    {
      "cell_type": "markdown",
      "metadata": {
        "id": "hxlQctkToJVz"
      },
      "source": [
        "# Preprocessing\r\n",
        "\r\n",
        "- Generate vocabulary from the reviews from `train_dataset`.\r\n",
        "- Set up a text encoder."
      ]
    },
    {
      "cell_type": "code",
      "metadata": {
        "colab": {
          "base_uri": "https://localhost:8080/"
        },
        "id": "xDQv7TyUopsJ",
        "outputId": "18e7d8c3-8914-4932-d42f-fa62368ef42a"
      },
      "source": [
        "VOCAB_SIZE=1000\r\n",
        "encoder = tf.keras.layers.experimental.preprocessing.TextVectorization(max_tokens=VOCAB_SIZE)\r\n",
        "encoder.adapt(train_dataset.map(lambda text, label: text))\r\n",
        "print(\"Completed the task: Generate vocabulary from the reviews from train_dataset.\")\r\n",
        "print(\"Complete the task: Set up a text encoder.\")"
      ],
      "execution_count": 17,
      "outputs": [
        {
          "output_type": "stream",
          "text": [
            "Completed the task: Generate vocabulary from the reviews from train_dataset.\n",
            "Complete the task: Set up a text encoder.\n"
          ],
          "name": "stdout"
        }
      ]
    },
    {
      "cell_type": "markdown",
      "metadata": {
        "id": "Mt4LTcFQpeZg"
      },
      "source": [
        "- Examine the encoded vocabulary."
      ]
    },
    {
      "cell_type": "code",
      "metadata": {
        "colab": {
          "base_uri": "https://localhost:8080/"
        },
        "id": "ec96CpBTpmrQ",
        "outputId": "977a7100-5a1b-4233-bcf2-ee838b23d71c"
      },
      "source": [
        "vocab = np.array(encoder.get_vocabulary())\r\n",
        "# Print the first 20 tokens of the generated vocabulary.\r\n",
        "vocab[:20]"
      ],
      "execution_count": 18,
      "outputs": [
        {
          "output_type": "execute_result",
          "data": {
            "text/plain": [
              "array(['', '[UNK]', 'the', 'i', 'and', 'phone', 'a', 'it', 'to', 'is',\n",
              "       'this', 'for', 'of', 'with', 'my', 'in', 'that', 'was', 'on',\n",
              "       'not'], dtype='<U13')"
            ]
          },
          "metadata": {
            "tags": []
          },
          "execution_count": 18
        }
      ]
    },
    {
      "cell_type": "markdown",
      "metadata": {
        "id": "51xeTkb9q_G3"
      },
      "source": [
        "# Build the model\r\n",
        "\r\n",
        "- The text from the review is first encoded into tokens.\r\n",
        "- Then the tokenized text is sent into an embedding layer.\r\n",
        "  - The embedding layer stores one vector per word.\r\n",
        "  - In this layer the sequences of tokens are converted into sequences of vectors.\r\n",
        "  - These vectors can be trained.\r\n",
        "  - After a sufficient amount of training, the words with similar meanings will mostly have similar vectors.\r\n",
        "- Then, these sequences of vectors are fed into a Recurrent Neural Network.\r\n",
        "- Here, we are using a Bidirectional RNN.\r\n",
        "  - In a bidirectional RNN, the input sequence is processed in both the directions i.e forward and backward.\r\n",
        "- In the end, the RNN grnerates an output vector, which will be processed by a 3 layer dense neural network to finally classify the vector output."
      ]
    },
    {
      "cell_type": "code",
      "metadata": {
        "id": "Ip-tEXFKqWiv"
      },
      "source": [
        "model = tf.keras.Sequential([\r\n",
        "    encoder,\r\n",
        "    tf.keras.layers.Embedding(\r\n",
        "        input_dim=len(encoder.get_vocabulary()),\r\n",
        "        output_dim=64,\r\n",
        "        # Use masking to handle the variable sequence lengths\r\n",
        "        mask_zero=True),\r\n",
        "    tf.keras.layers.Bidirectional(tf.keras.layers.LSTM(64)),\r\n",
        "    tf.keras.layers.Dense(64, activation='relu'),\r\n",
        "    tf.keras.layers.Dense(32, activation='relu'),\r\n",
        "    tf.keras.layers.Dense(1)\r\n",
        "])"
      ],
      "execution_count": 19,
      "outputs": []
    },
    {
      "cell_type": "markdown",
      "metadata": {
        "id": "DVqalvcuv8Rb"
      },
      "source": [
        "- Compile the model"
      ]
    },
    {
      "cell_type": "code",
      "metadata": {
        "id": "Z7eQKGx4v_mC"
      },
      "source": [
        "model.compile(loss=tf.keras.losses.BinaryCrossentropy(from_logits=True), optimizer=tf.keras.optimizers.Adam(1e-4), metrics=['accuracy'])"
      ],
      "execution_count": 20,
      "outputs": []
    },
    {
      "cell_type": "markdown",
      "metadata": {
        "id": "OneCmztqwFeK"
      },
      "source": [
        "- Train the model"
      ]
    },
    {
      "cell_type": "code",
      "metadata": {
        "colab": {
          "base_uri": "https://localhost:8080/"
        },
        "id": "7K2683oywK4C",
        "outputId": "43681b60-d8ce-4916-ee26-e5de1a6c6837"
      },
      "source": [
        "history = model.fit(train_dataset, epochs=10, validation_data=test_dataset, validation_steps=30)"
      ],
      "execution_count": 21,
      "outputs": [
        {
          "output_type": "stream",
          "text": [
            "Epoch 1/10\n",
            "850/850 [==============================] - 973s 1s/step - loss: 0.5393 - accuracy: 0.5723 - val_loss: 0.2713 - val_accuracy: 0.8771\n",
            "Epoch 2/10\n",
            "850/850 [==============================] - 964s 1s/step - loss: 0.2689 - accuracy: 0.8844 - val_loss: 0.2559 - val_accuracy: 0.8891\n",
            "Epoch 3/10\n",
            "850/850 [==============================] - 970s 1s/step - loss: 0.2504 - accuracy: 0.8946 - val_loss: 0.2520 - val_accuracy: 0.8938\n",
            "Epoch 4/10\n",
            "850/850 [==============================] - 960s 1s/step - loss: 0.2443 - accuracy: 0.8978 - val_loss: 0.2518 - val_accuracy: 0.8849\n",
            "Epoch 5/10\n",
            "850/850 [==============================] - 955s 1s/step - loss: 0.2413 - accuracy: 0.8991 - val_loss: 0.2603 - val_accuracy: 0.8703\n",
            "Epoch 6/10\n",
            "850/850 [==============================] - 970s 1s/step - loss: 0.2380 - accuracy: 0.8979 - val_loss: 0.2582 - val_accuracy: 0.8792\n",
            "Epoch 7/10\n",
            "850/850 [==============================] - 963s 1s/step - loss: 0.2348 - accuracy: 0.8996 - val_loss: 0.2551 - val_accuracy: 0.8813\n",
            "Epoch 8/10\n",
            "850/850 [==============================] - 965s 1s/step - loss: 0.2297 - accuracy: 0.9021 - val_loss: 0.2683 - val_accuracy: 0.8641\n",
            "Epoch 9/10\n",
            "850/850 [==============================] - 966s 1s/step - loss: 0.2268 - accuracy: 0.9033 - val_loss: 0.2508 - val_accuracy: 0.8828\n",
            "Epoch 10/10\n",
            "850/850 [==============================] - 981s 1s/step - loss: 0.2247 - accuracy: 0.9034 - val_loss: 0.2523 - val_accuracy: 0.8865\n"
          ],
          "name": "stdout"
        }
      ]
    },
    {
      "cell_type": "markdown",
      "metadata": {
        "id": "GJKZIyYrwvmT"
      },
      "source": [
        "- Test the model on the `test_dataset` and find its loss and accuracy."
      ]
    },
    {
      "cell_type": "code",
      "metadata": {
        "colab": {
          "base_uri": "https://localhost:8080/"
        },
        "id": "azh8IuWbwm4h",
        "outputId": "8ea6f5f6-6521-4149-ea58-5ef57936091c"
      },
      "source": [
        "test_loss, test_acc = model.evaluate(test_dataset)\r\n",
        "\r\n",
        "print('Test Loss: {}'.format(test_loss))\r\n",
        "print('Test Accuracy: {}'.format(test_acc))"
      ],
      "execution_count": 22,
      "outputs": [
        {
          "output_type": "stream",
          "text": [
            "213/213 [==============================] - 34s 158ms/step - loss: 0.2259 - accuracy: 0.8970\n",
            "Test Loss: 0.22589832544326782\n",
            "Test Accuracy: 0.8969701528549194\n"
          ],
          "name": "stdout"
        }
      ]
    },
    {
      "cell_type": "markdown",
      "metadata": {
        "id": "rvMn81A0w8vo"
      },
      "source": [
        "- Plot a graph of the change in accuracy and loss overtime while training using the variable `history`."
      ]
    },
    {
      "cell_type": "code",
      "metadata": {
        "colab": {
          "base_uri": "https://localhost:8080/",
          "height": 518
        },
        "id": "3WwxUuEOwq_B",
        "outputId": "f8063729-dc00-4a9a-b1ac-7f21013bf865"
      },
      "source": [
        "plt.figure(figsize=(16,8))\r\n",
        "plt.subplot(1,2,1)\r\n",
        "plot_graphs(history, 'accuracy')\r\n",
        "plt.ylim(None,1)\r\n",
        "plt.subplot(1,2,2)\r\n",
        "plot_graphs(history, 'loss')\r\n",
        "plt.ylim(0,None)"
      ],
      "execution_count": 23,
      "outputs": [
        {
          "output_type": "execute_result",
          "data": {
            "text/plain": [
              "(0.0, 0.42655877098441125)"
            ]
          },
          "metadata": {
            "tags": []
          },
          "execution_count": 23
        },
        {
          "output_type": "display_data",
          "data": {
            "image/png": "[encoded data removed]",
            "text/plain": [
              "<Figure size 1152x576 with 2 Axes>"
            ]
          },
          "metadata": {
            "tags": [],
            "needs_background": "light"
          }
        }
      ]
    },
    {
      "cell_type": "markdown",
      "metadata": {
        "id": "gISr3ex_cEi5"
      },
      "source": [
        "- Save the model."
      ]
    },
    {
      "cell_type": "code",
      "metadata": {
        "colab": {
          "base_uri": "https://localhost:8080/"
        },
        "id": "N36vZ55LcLGe",
        "outputId": "87a39498-5873-4b82-adfb-f8321cddd99a"
      },
      "source": [
        "model.save('review-sentiment-analysis-model')"
      ],
      "execution_count": 33,
      "outputs": [
        {
          "output_type": "stream",
          "text": [
            "WARNING:absl:Found untraced functions such as lstm_cell_1_layer_call_and_return_conditional_losses, lstm_cell_1_layer_call_fn, lstm_cell_2_layer_call_and_return_conditional_losses, lstm_cell_2_layer_call_fn, lstm_cell_1_layer_call_fn while saving (showing 5 of 10). These functions will not be directly callable after loading.\n",
            "WARNING:absl:Found untraced functions such as lstm_cell_1_layer_call_and_return_conditional_losses, lstm_cell_1_layer_call_fn, lstm_cell_2_layer_call_and_return_conditional_losses, lstm_cell_2_layer_call_fn, lstm_cell_1_layer_call_fn while saving (showing 5 of 10). These functions will not be directly callable after loading.\n"
          ],
          "name": "stderr"
        },
        {
          "output_type": "stream",
          "text": [
            "INFO:tensorflow:Assets written to: review-sentiment-analysis-model/assets\n"
          ],
          "name": "stdout"
        },
        {
          "output_type": "stream",
          "text": [
            "INFO:tensorflow:Assets written to: review-sentiment-analysis-model/assets\n"
          ],
          "name": "stderr"
        }
      ]
    },
    {
      "cell_type": "code",
      "metadata": {
        "colab": {
          "base_uri": "https://localhost:8080/"
        },
        "id": "cR9JcsR5eBEu",
        "outputId": "d8e6afcc-ae11-4857-87fb-7eff9860d9de"
      },
      "source": [
        "new_model = tf.keras.models.load_model('review-sentiment-analysis-model')\r\n",
        "\r\n",
        "loss, accuracy = new_model.evaluate(test_dataset)"
      ],
      "execution_count": 34,
      "outputs": [
        {
          "output_type": "stream",
          "text": [
            "213/213 [==============================] - 35s 153ms/step - loss: 0.2259 - accuracy: 0.8970\n"
          ],
          "name": "stdout"
        }
      ]
    },
    {
      "cell_type": "markdown",
      "metadata": {
        "id": "6Qs3JbZp-32X"
      },
      "source": [
        "# Product Rating Estimation"
      ]
    },
    {
      "cell_type": "code",
      "metadata": {
        "colab": {
          "base_uri": "https://localhost:8080/"
        },
        "id": "wo6gcIyivXHc",
        "executionInfo": {
          "status": "ok",
          "timestamp": 1610946728733,
          "user_tz": -330,
          "elapsed": 2078,
          "user": {
            "displayName": "Sriharsha Kotcharlakot",
            "photoUrl": "https://lh3.googleusercontent.com/a-/AOh14GjGoDMldpq-307nKSnLq5ycMB2HMoTz3L0uUgmEFg=s64",
            "userId": "04233066119008364027"
          }
        },
        "outputId": "079d8bd3-80a3-4bb9-a8c0-6312898758df"
      },
      "source": [
        "item_asins = list(map(str, items_dataframe['asin']))\r\n",
        "item_titles = list(map(str, items_dataframe['title']))\r\n",
        "\r\n",
        "review_asins = list(map(str, reviews_dataframe['asin']))\r\n",
        "review_bodies = list(map(str, reviews_dataframe['body']))\r\n",
        "\r\n",
        "items_dictionary = {}\r\n",
        "reviews_dictionary = defaultdict(list)\r\n",
        "\r\n",
        "for i, j in zip(item_asins, item_titles):\r\n",
        "  items_dictionary[i] = j\r\n",
        "\r\n",
        "for i, j in zip(review_asins, review_bodies):\r\n",
        "  reviews_dictionary[i].append(j)\r\n",
        "\r\n",
        "item_asin = 'B002WTC1NG'\r\n",
        "\r\n",
        "results_np_array = new_model.predict(np.array(reviews_dictionary[item_asin]))\r\n",
        "\r\n",
        "results = [i[0] for i in results_np_array]\r\n",
        "\r\n",
        "print(\"Sentiment Analysis Results, Normalized Results\")\r\n",
        "\r\n",
        "normalized_results = []\r\n",
        "\r\n",
        "for i in results:\r\n",
        "  if (i > 0):\r\n",
        "    normalized_results.append(1)\r\n",
        "  else:\r\n",
        "    normalized_results.append(0)\r\n",
        "\r\n",
        "for i, j in zip(results, normalized_results):\r\n",
        "  print(i, '\\t\\t   ', j)\r\n",
        "\r\n",
        "estimated_rating = ((sum(normalized_results) / len(normalized_results)) * 5)\r\n",
        "\r\n",
        "print(\"Product Name:\", items_dictionary[item_asin])\r\n",
        "print(\"Estimated Rating:\", estimated_rating)"
      ],
      "execution_count": null,
      "outputs": [
        {
          "output_type": "stream",
          "text": [
            "Sentiment Analysis Results, Normalized Results\n",
            "1.8601956 \t\t    1\n",
            "4.935422 \t\t    1\n",
            "6.810992 \t\t    1\n",
            "2.2435498 \t\t    1\n",
            "-1.7549433 \t\t    0\n",
            "9.245282 \t\t    1\n",
            "1.1793336 \t\t    1\n",
            "-2.9701366 \t\t    0\n",
            "9.530838 \t\t    1\n",
            "-3.4096828 \t\t    0\n",
            "9.576634 \t\t    1\n",
            "-1.9304653 \t\t    0\n",
            "4.211402 \t\t    1\n",
            "2.0018005 \t\t    1\n",
            "-0.5342741 \t\t    0\n",
            "4.405078 \t\t    1\n",
            "4.6663527 \t\t    1\n",
            "-2.7833762 \t\t    0\n",
            "-0.94939756 \t\t    0\n",
            "-2.207353 \t\t    0\n",
            "6.110497 \t\t    1\n",
            "1.1218323 \t\t    1\n",
            "-1.8603045 \t\t    0\n",
            "5.121467 \t\t    1\n",
            "6.4523582 \t\t    1\n",
            "-2.5298972 \t\t    0\n",
            "-2.337658 \t\t    0\n",
            "5.1258235 \t\t    1\n",
            "0.6134148 \t\t    1\n",
            "2.24244 \t\t    1\n",
            "-2.7382278 \t\t    0\n",
            "5.4295955 \t\t    1\n",
            "-4.4795485 \t\t    0\n",
            "3.9550087 \t\t    1\n",
            "4.588244 \t\t    1\n",
            "6.599078 \t\t    1\n",
            "-3.39687 \t\t    0\n",
            "4.768744 \t\t    1\n",
            "-1.3451672 \t\t    0\n",
            "2.0348067 \t\t    1\n",
            "9.679453 \t\t    1\n",
            "1.3719339 \t\t    1\n",
            "2.6258936 \t\t    1\n",
            "0.47177747 \t\t    1\n",
            "-2.4146276 \t\t    0\n",
            "-1.0219309 \t\t    0\n",
            "8.028047 \t\t    1\n",
            "-1.5716325 \t\t    0\n",
            "-3.1849573 \t\t    0\n",
            "2.999451 \t\t    1\n",
            "-0.6905644 \t\t    0\n",
            "0.26553708 \t\t    1\n",
            "-0.71492386 \t\t    0\n",
            "2.2181156 \t\t    1\n",
            "6.5534816 \t\t    1\n",
            "6.3077207 \t\t    1\n",
            "1.2655481 \t\t    1\n",
            "-0.7777164 \t\t    0\n",
            "3.9248195 \t\t    1\n",
            "3.8256998 \t\t    1\n",
            "-0.99757135 \t\t    0\n",
            "7.530195 \t\t    1\n",
            "6.620603 \t\t    1\n",
            "7.0613065 \t\t    1\n",
            "5.714435 \t\t    1\n",
            "4.544548 \t\t    1\n",
            "4.9073796 \t\t    1\n",
            "6.087944 \t\t    1\n",
            "8.260019 \t\t    1\n",
            "8.658251 \t\t    1\n",
            "5.3971157 \t\t    1\n",
            "9.865393 \t\t    1\n",
            "2.7253222 \t\t    1\n",
            "6.9623723 \t\t    1\n",
            "8.863878 \t\t    1\n",
            "-0.782801 \t\t    0\n",
            "2.697549 \t\t    1\n",
            "6.3149467 \t\t    1\n",
            "0.8869028 \t\t    1\n",
            "5.931098 \t\t    1\n",
            "2.632831 \t\t    1\n",
            "5.911718 \t\t    1\n",
            "2.4411016 \t\t    1\n",
            "1.090671 \t\t    1\n",
            "2.483599 \t\t    1\n",
            "-1.0706224 \t\t    0\n",
            "2.2777948 \t\t    1\n",
            "4.132543 \t\t    1\n",
            "3.191167 \t\t    1\n",
            "0.68780696 \t\t    1\n",
            "5.386396 \t\t    1\n",
            "4.670256 \t\t    1\n",
            "-1.700246 \t\t    0\n",
            "4.950112 \t\t    1\n",
            "5.011498 \t\t    1\n",
            "3.4135003 \t\t    1\n",
            "4.7051287 \t\t    1\n",
            "0.8419986 \t\t    1\n",
            "1.2194113 \t\t    1\n",
            "1.9819052 \t\t    1\n",
            "4.205996 \t\t    1\n",
            "5.154453 \t\t    1\n",
            "9.634074 \t\t    1\n",
            "1.9227122 \t\t    1\n",
            "-1.0326251 \t\t    0\n",
            "4.81341 \t\t    1\n",
            "2.7911022 \t\t    1\n",
            "4.138802 \t\t    1\n",
            "7.580368 \t\t    1\n",
            "-2.386604 \t\t    0\n",
            "2.1725154 \t\t    1\n",
            "3.6198757 \t\t    1\n",
            "5.784655 \t\t    1\n",
            "5.2222857 \t\t    1\n",
            "2.5512166 \t\t    1\n",
            "-2.5408404 \t\t    0\n",
            "2.9551213 \t\t    1\n",
            "4.5789294 \t\t    1\n",
            "-0.8968236 \t\t    0\n",
            "3.0604286 \t\t    1\n",
            "3.8195486 \t\t    1\n",
            "3.4111013 \t\t    1\n",
            "7.8583875 \t\t    1\n",
            "5.718406 \t\t    1\n",
            "-1.9467657 \t\t    0\n",
            "4.431892 \t\t    1\n",
            "0.7332123 \t\t    1\n",
            "8.061155 \t\t    1\n",
            "0.38109252 \t\t    1\n",
            "0.60110897 \t\t    1\n",
            "4.8955245 \t\t    1\n",
            "2.483004 \t\t    1\n",
            "1.0860101 \t\t    1\n",
            "-1.0122926 \t\t    0\n",
            "6.228975 \t\t    1\n",
            "4.821975 \t\t    1\n",
            "8.448346 \t\t    1\n",
            "6.376674 \t\t    1\n",
            "1.3021027 \t\t    1\n",
            "-0.73748535 \t\t    0\n",
            "2.4678016 \t\t    1\n",
            "4.4051976 \t\t    1\n",
            "7.2659397 \t\t    1\n",
            "5.187381 \t\t    1\n",
            "6.7519355 \t\t    1\n",
            "0.8797662 \t\t    1\n",
            "-1.6678575 \t\t    0\n",
            "-1.7225052 \t\t    0\n",
            "2.6118603 \t\t    1\n",
            "-0.83593225 \t\t    0\n",
            "2.340622 \t\t    1\n",
            "5.252585 \t\t    1\n",
            "-3.1267364 \t\t    0\n",
            "2.1730003 \t\t    1\n",
            "5.6353536 \t\t    1\n",
            "8.187861 \t\t    1\n",
            "8.770205 \t\t    1\n",
            "-1.867798 \t\t    0\n",
            "-0.8980127 \t\t    0\n",
            "3.4567835 \t\t    1\n",
            "4.4740806 \t\t    1\n",
            "5.8729997 \t\t    1\n",
            "7.24227 \t\t    1\n",
            "1.0009166 \t\t    1\n",
            "-0.086681694 \t\t    0\n",
            "6.648993 \t\t    1\n",
            "3.9075594 \t\t    1\n",
            "5.627286 \t\t    1\n",
            "2.1144109 \t\t    1\n",
            "4.815969 \t\t    1\n",
            "3.6383605 \t\t    1\n",
            "7.704865 \t\t    1\n",
            "5.718406 \t\t    1\n",
            "2.8163028 \t\t    1\n",
            "6.763407 \t\t    1\n",
            "4.3178887 \t\t    1\n",
            "4.91314 \t\t    1\n",
            "6.9717984 \t\t    1\n",
            "6.1667533 \t\t    1\n",
            "7.4022975 \t\t    1\n",
            "8.632125 \t\t    1\n",
            "6.504805 \t\t    1\n",
            "5.718406 \t\t    1\n",
            "0.97725856 \t\t    1\n",
            "4.037252 \t\t    1\n",
            "-1.0670757 \t\t    0\n",
            "-0.40034726 \t\t    0\n",
            "2.9642825 \t\t    1\n",
            "4.293529 \t\t    1\n",
            "5.5578084 \t\t    1\n",
            "-1.7246525 \t\t    0\n",
            "-3.7193975 \t\t    0\n",
            "7.030461 \t\t    1\n",
            "4.922622 \t\t    1\n",
            "1.7482598 \t\t    1\n",
            "-0.7042426 \t\t    0\n",
            "8.809046 \t\t    1\n",
            "3.80551 \t\t    1\n",
            "-0.76270866 \t\t    0\n",
            "5.649574 \t\t    1\n",
            "-0.22063202 \t\t    0\n",
            "-3.36798 \t\t    0\n",
            "3.9899545 \t\t    1\n",
            "0.14268951 \t\t    1\n",
            "-2.0207741 \t\t    0\n",
            "1.9841868 \t\t    1\n",
            "2.330316 \t\t    1\n",
            "-0.6168594 \t\t    0\n",
            "-4.0072765 \t\t    0\n",
            "-2.1621096 \t\t    0\n",
            "0.27725983 \t\t    1\n",
            "3.5474558 \t\t    1\n",
            "4.377421 \t\t    1\n",
            "-0.2007153 \t\t    0\n",
            "2.7131786 \t\t    1\n",
            "-2.181547 \t\t    0\n",
            "-0.8479932 \t\t    0\n",
            "1.7958796 \t\t    1\n",
            "0.012586968 \t\t    1\n",
            "-1.618136 \t\t    0\n",
            "0.6249252 \t\t    1\n",
            "2.13168 \t\t    1\n",
            "6.936462 \t\t    1\n",
            "-2.3985927 \t\t    0\n",
            "4.7537665 \t\t    1\n",
            "3.9227908 \t\t    1\n",
            "1.9925178 \t\t    1\n",
            "7.7336164 \t\t    1\n",
            "2.2056537 \t\t    1\n",
            "4.91723 \t\t    1\n",
            "1.0706495 \t\t    1\n",
            "3.262414 \t\t    1\n",
            "-0.3134369 \t\t    0\n",
            "0.29599708 \t\t    1\n",
            "10.094004 \t\t    1\n",
            "-0.5162568 \t\t    0\n",
            "4.107466 \t\t    1\n",
            "5.2767444 \t\t    1\n",
            "4.628452 \t\t    1\n",
            "4.0851607 \t\t    1\n",
            "2.1436403 \t\t    1\n",
            "4.1887364 \t\t    1\n",
            "0.26373398 \t\t    1\n",
            "-1.5702044 \t\t    0\n",
            "3.6267736 \t\t    1\n",
            "-0.500423 \t\t    0\n",
            "-0.90768653 \t\t    0\n",
            "2.6045465 \t\t    1\n",
            "2.76129 \t\t    1\n",
            "7.5198913 \t\t    1\n",
            "1.9787567 \t\t    1\n",
            "9.236577 \t\t    1\n",
            "5.1858816 \t\t    1\n",
            "4.2918286 \t\t    1\n",
            "1.4944195 \t\t    1\n",
            "2.4388988 \t\t    1\n",
            "-0.76175034 \t\t    0\n",
            "4.2134843 \t\t    1\n",
            "1.3305826 \t\t    1\n",
            "-1.5410198 \t\t    0\n",
            "4.5100884 \t\t    1\n",
            "2.6294415 \t\t    1\n",
            "4.7618785 \t\t    1\n",
            "5.246661 \t\t    1\n",
            "7.3045063 \t\t    1\n",
            "5.1322217 \t\t    1\n",
            "3.0331533 \t\t    1\n",
            "3.1156516 \t\t    1\n",
            "4.9992557 \t\t    1\n",
            "4.6794467 \t\t    1\n",
            "4.4308896 \t\t    1\n",
            "5.2876105 \t\t    1\n",
            "-3.4914217 \t\t    0\n",
            "7.9800115 \t\t    1\n",
            "1.5834416 \t\t    1\n",
            "4.2171035 \t\t    1\n",
            "4.7579675 \t\t    1\n",
            "1.7081739 \t\t    1\n",
            "3.7240942 \t\t    1\n",
            "4.6582456 \t\t    1\n",
            "6.4075828 \t\t    1\n",
            "-1.5079919 \t\t    0\n",
            "5.5043907 \t\t    1\n",
            "0.836998 \t\t    1\n",
            "6.85622 \t\t    1\n",
            "4.953874 \t\t    1\n",
            "7.6600537 \t\t    1\n",
            "-1.964279 \t\t    0\n",
            "0.9688425 \t\t    1\n",
            "1.3742555 \t\t    1\n",
            "-0.67188585 \t\t    0\n",
            "5.6582856 \t\t    1\n",
            "3.5048623 \t\t    1\n",
            "3.785722 \t\t    1\n",
            "4.293529 \t\t    1\n",
            "4.6706977 \t\t    1\n",
            "-1.7209424 \t\t    0\n",
            "3.7885776 \t\t    1\n",
            "5.5484147 \t\t    1\n",
            "6.2245507 \t\t    1\n",
            "-1.5864524 \t\t    0\n",
            "6.8609695 \t\t    1\n",
            "5.549582 \t\t    1\n",
            "-0.37764376 \t\t    0\n",
            "3.1156516 \t\t    1\n",
            "4.811191 \t\t    1\n",
            "6.4269986 \t\t    1\n",
            "3.6448922 \t\t    1\n",
            "5.3756065 \t\t    1\n",
            "2.9448562 \t\t    1\n",
            "4.2567077 \t\t    1\n",
            "6.094472 \t\t    1\n",
            "4.282027 \t\t    1\n",
            "10.605197 \t\t    1\n",
            "-3.388841 \t\t    0\n",
            "5.559914 \t\t    1\n",
            "7.0035276 \t\t    1\n",
            "4.613308 \t\t    1\n",
            "6.4542174 \t\t    1\n",
            "2.9502695 \t\t    1\n",
            "5.5484147 \t\t    1\n",
            "6.170943 \t\t    1\n",
            "1.442032 \t\t    1\n",
            "7.877274 \t\t    1\n",
            "5.6878123 \t\t    1\n",
            "7.6754556 \t\t    1\n",
            "4.072973 \t\t    1\n",
            "3.2190156 \t\t    1\n",
            "1.9020169 \t\t    1\n",
            "7.5141115 \t\t    1\n",
            "2.3597534 \t\t    1\n",
            "6.5208983 \t\t    1\n",
            "0.8700006 \t\t    1\n",
            "2.05725 \t\t    1\n",
            "5.65276 \t\t    1\n",
            "-2.6381383 \t\t    0\n",
            "3.4249375 \t\t    1\n",
            "0.9721968 \t\t    1\n",
            "4.518908 \t\t    1\n",
            "-2.6458628 \t\t    0\n",
            "-1.4011458 \t\t    0\n",
            "4.5526175 \t\t    1\n",
            "1.3926445 \t\t    1\n",
            "4.7116027 \t\t    1\n",
            "4.0929713 \t\t    1\n",
            "5.4255376 \t\t    1\n",
            "5.5578084 \t\t    1\n",
            "0.7526538 \t\t    1\n",
            "Product Name: Motorola Barrage V860 Phone (Verizon Wireless)\n",
            "Estimated Rating: 3.922413793103448\n"
          ],
          "name": "stdout"
        }
      ]
    }
  ]
}
